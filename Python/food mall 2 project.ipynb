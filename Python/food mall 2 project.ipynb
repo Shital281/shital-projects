{
 "cells": [
  {
   "cell_type": "code",
   "execution_count": 9,
   "id": "915e875f",
   "metadata": {},
   "outputs": [],
   "source": [
    "CUSTOMER=[]\n",
    "CONTACT=[]"
   ]
  },
  {
   "cell_type": "code",
   "execution_count": 10,
   "id": "4e7865fb",
   "metadata": {
    "scrolled": true
   },
   "outputs": [
    {
     "name": "stdout",
     "output_type": "stream",
     "text": [
      "🍷🍷🍷🍷🍷🍷 LOGIN AS 🍷🍷🍷🍷🍷🍷\n",
      "  HOST                           GUEST  \n",
      " GIRISH\n",
      "  >>>>>>>>>>>> WELCOME TO THE TASTE OF PUNE <<<<<<<<<<<<  \n",
      "           Fast and yummy. Good for your tummy\n",
      "    ------ Please Enter Your Name and Mobile No. ------\n"
     ]
    }
   ],
   "source": [
    "print('🍷🍷🍷🍷🍷🍷 LOGIN AS 🍷🍷🍷🍷🍷🍷')\n",
    "print(\"  HOST                           GUEST  \")\n",
    "user= input(\" \")\n",
    "if user==\"HOST\":\n",
    "    HOST()\n",
    "else:\n",
    "    GUEST()"
   ]
  },
  {
   "cell_type": "code",
   "execution_count": 11,
   "id": "d8eca8c6",
   "metadata": {},
   "outputs": [
    {
     "name": "stdout",
     "output_type": "stream",
     "text": [
      "name : GIRISH\n",
      "welcome GIRISH \n",
      "CONTACT_INFO\n"
     ]
    }
   ],
   "source": [
    "def HOST():\n",
    "    staff = input(\"name : \")\n",
    "    if staff in(\"GIRISH\" , \"SHITAL\"):\n",
    "        print(\"welcome {} \".format(staff))\n",
    "        print('CONTACT_INFO')\n",
    "    else:\n",
    "        print(\"invalid name\")\n",
    "HOST()"
   ]
  },
  {
   "cell_type": "code",
   "execution_count": 12,
   "id": "c1c21e0a",
   "metadata": {},
   "outputs": [
    {
     "name": "stdout",
     "output_type": "stream",
     "text": [
      "  >>>>>>>>>>>> WELCOME TO THE TASTE OF PUNE <<<<<<<<<<<<  \n",
      "           Fast and yummy. Good for your tummy\n",
      "    ------ Please Enter Your Name and Mobile No. ------\n",
      " name       : RAJ\n",
      " mobile no. : 345678999\n"
     ]
    }
   ],
   "source": [
    "def GUEST():\n",
    "    print(\"  >>>>>>>>>>>> WELCOME TO THE TASTE OF PUNE <<<<<<<<<<<<  \")\n",
    "    print(\"           Fast and yummy. Good for your tummy\")\n",
    "\n",
    "    print(\"    ------ Please Enter Your Name and Mobile No. ------\")\n",
    "    \n",
    "GUEST()\n",
    "\n",
    "NAME=input(' name       : ')\n",
    "MOBILE_NUMBER=input(' mobile no. : ')\n",
    "CUSTOMER.append(NAME)\n",
    "CONTACT.append(MOBILE_NUMBER)"
   ]
  },
  {
   "cell_type": "code",
   "execution_count": 13,
   "id": "3143627c",
   "metadata": {},
   "outputs": [],
   "source": [
    "MY_ORDER=[]\n",
    "PRICE=[]"
   ]
  },
  {
   "cell_type": "code",
   "execution_count": 14,
   "id": "a5246669",
   "metadata": {},
   "outputs": [
    {
     "name": "stdout",
     "output_type": "stream",
     "text": [
      "*****^_^  Hello RAJ its tummy time  ^_^*****\n",
      "                    MAIN MENU\n",
      "~~~~~~~~~~~~~~~~~~~~~~~~~~~~~~~~~~~~~~~~~~~~~~~~\n",
      "                Enter your choice\n",
      " 1 for Starter \n",
      " 2 for Main course\n",
      " 3 for Dessert and beaverages\n",
      " 0 to exit\n",
      " 1\n",
      "enter 1 for Veg \n",
      "enter 2 for NonVeg \n",
      "enter 10 for home \n",
      "enter 0 to exit \n",
      " 1\n",
      "enter 1 for paneer tikka         ----- ₹120\n",
      "enter 2 for American corn ball   ----- ₹130\n",
      "enter 3 for Chrispy chilli potato----- ₹120\n",
      "enter 4 for Masala papad         ----- ₹60\n",
      "enter 10 for home \n",
      "enter 0 to exit \n",
      " 1\n"
     ]
    }
   ],
   "source": [
    "print(\"*****^_^  Hello {} its tummy time  ^_^*****\".format(NAME))\n",
    "def home():\n",
    "    print(\"                    MAIN MENU\")\n",
    "    print(\"~~~\"*16)\n",
    "    print(\"                Enter your choice\")\n",
    "\n",
    "    print(\" 1 for Starter \")\n",
    "    print(\" 2 for Main course\")\n",
    "    print(\" 3 for Dessert and beaverages\")\n",
    "    print(\" 0 to exit\")\n",
    "\n",
    "home()\n",
    "x=int(input(\" \"))\n",
    "while x !=0:\n",
    "    if x==1:\n",
    "        def starter_menu():\n",
    "\n",
    "            print(\"enter 1 for Veg \")\n",
    "            print(\"enter 2 for NonVeg \")\n",
    "            print(\"enter 10 for home \")         \n",
    "            print(\"enter 0 to exit \")\n",
    "\n",
    "        starter_menu() \n",
    "        x1=int(input(\" \"))\n",
    "        while x1 !=0:\n",
    "            if x1==1:\n",
    "                def Veg_starter(): \n",
    "                    print(\"enter 1 for paneer tikka         ----- ₹120\") \n",
    "                    print(\"enter 2 for American corn ball   ----- ₹130\")\n",
    "                    print(\"enter 3 for Chrispy chilli potato----- ₹120\")\n",
    "                    print(\"enter 4 for Masala papad         ----- ₹60\" )\n",
    "                    print(\"enter 10 for home \")         \n",
    "                    print(\"enter 0 to exit \")\n",
    "                Veg_starter()\n",
    "                x2=int(input(\" \"))\n",
    "\n",
    "                if x2==1:\n",
    "                    MY_ORDER.append(\"paneer tikka ----- ₹120\")\n",
    "                    PRICE.append(120)\n",
    "                    break\n",
    "\n",
    "                if x2==2:\n",
    "                    MY_ORDER.append(\"American corn ball -----₹130\")\n",
    "                    PRICE.append(130)\n",
    "                    break\n",
    "\n",
    "                if x2==3:\n",
    "                    MY_ORDER.append(\"Chrispy chilli potato----- ₹120\")\n",
    "                    PRICE.append(120)\n",
    "                    break\n",
    "\n",
    "                if x2==4:\n",
    "                    MY_ORDER.append(\"Masala papad ----- ₹60\")\n",
    "                    PRICE.append(60)\n",
    "                    break\n",
    "\n",
    "                if x2==10:\n",
    "                    home()\n",
    "                    break\n",
    "\n",
    "            elif x1==2:\n",
    "                def NonVeg_starter():\n",
    "                    print(\"enter 1 to chicken tikka        -----₹150\") \n",
    "                    print(\"enter 2 to meat ball            -----₹140\")\n",
    "                    print(\"enter 3 to Chilli Garlic Prawns -----₹120\")\n",
    "                    print(\"enter 4 to Chicken Seek Kabab   -----₹120\")\n",
    "                    print(\"enter 10 for home \")         \n",
    "                    print(\"enter 0 to exit \")\n",
    "                NonVeg_starter()\n",
    "                x3=int(input(\" \"))\n",
    "\n",
    "                if x3==1:\n",
    "                    MY_ORDER.append(\"chicken tikka ----- ₹150\")\n",
    "                    PRICE.append(150)\n",
    "                    break\n",
    "\n",
    "                if x3==2:\n",
    "                    MY_ORDER.append(\" meat ball -----₹140\")\n",
    "                    PRICE.append(140)\n",
    "                    break\n",
    "\n",
    "                if x3==3:\n",
    "                    MY_ORDER.append(\"Chilli Garlic Prawns ----- ₹120\")\n",
    "                    PRICE.append(120)\n",
    "                    break\n",
    "\n",
    "                if x3==4:\n",
    "                    MY_ORDER.append(\"Chicken Seek Kabab ----- ₹120\")\n",
    "                    PRICE.append(120)\n",
    "                    break\n",
    "                    \n",
    "                if x3==10:\n",
    "                    home()\n",
    "                    break\n",
    "\n",
    "            elif x1 == 10:\n",
    "                home()\n",
    "                break\n",
    "        break\n",
    "\n",
    "\n",
    "\n",
    "    if x==2:\n",
    "        def Main_course_menu():\n",
    "\n",
    "            print(\"enter 1 for ..Veg \")\n",
    "            print(\"enter 2 for ..NonVeg \")\n",
    "            print(\"enter 10 for home \")         \n",
    "            print(\"enter 0 to exit \")\n",
    "\n",
    "        Main_course_menu() \n",
    "        y=int(input(\" \"))\n",
    "        while y !=0:\n",
    "\n",
    "            if y==1:\n",
    "                def Veg(): \n",
    "                    print(\"enter 1 for paneer kadhai       ----- ₹190\") \n",
    "                    print(\"enter 2 for  mashroom           ------₹240\")\n",
    "                    print(\"enter 3 for mix veg             ----- ₹180\")\n",
    "                    print(\"enter 4 for veg kolhapuri       ----- ₹180\")\n",
    "                    print(\"enter 10 for home \")         \n",
    "                    print(\"enter 0 to exit \")\n",
    "                Veg()\n",
    "                y1=int(input(\" \"))\n",
    "\n",
    "                if y1==1:\n",
    "                    MY_ORDER.append(\"paneer kadhai----- ₹190\")\n",
    "                    PRICE.append(190)\n",
    "                    break\n",
    "\n",
    "                if y1==2:\n",
    "                    MY_ORDER.append(\"Mashroom -----₹240\")\n",
    "                    PRICE.append(240)\n",
    "                    break\n",
    "\n",
    "                if y1==3:\n",
    "                    MY_ORDER.append(\"mix veg----- ₹180\")\n",
    "                    PRICE.append(180)\n",
    "                    break\n",
    "\n",
    "                if y1==4:\n",
    "                    MY_ORDER.append(\"veg kolhapuri----- ₹180\")\n",
    "                    PRICE.append(180)\n",
    "                    break\n",
    "\n",
    "                if y1==10:\n",
    "                    home()\n",
    "                    break\n",
    "\n",
    "\n",
    "            elif y==2:\n",
    "                def NonVeg():\n",
    "\n",
    "                    print(\"enter 1 for Butter chicken----- ₹250\") \n",
    "                    print(\"enter 2 for chicken Handi  -----₹300\")\n",
    "                    print(\"enter 3 for Mutton Handi  ----- ₹400\")\n",
    "                    print(\"enter 4 for Surmai Fry    ----- ₹350\")\n",
    "                    print(\"enter 10 for HOME \")\n",
    "                    print(\"enter 0 for Exit \" )\n",
    "\n",
    "                NonVeg()\n",
    "                y2=int(input(\" \"))\n",
    "\n",
    "                if y2==1:\n",
    "                    MY_ORDER.append(\"Butter chicken         ----- ₹250\")\n",
    "                    PRICE.append(250)\n",
    "                    break\n",
    "                if y2==2:\n",
    "                    MY_ORDER.append(\"chicken Handi            -----₹300 \")\n",
    "                    PRICE.append(300)\n",
    "                    break\n",
    "                if y2==3:\n",
    "                    MY_ORDER.append(\"Mutton Handi ----- ₹400 \")\n",
    "                    PRICE.append(400)\n",
    "                    break\n",
    "                if y2==4:\n",
    "                    MY_ORDER.append(\"Surmai Fry    ----- ₹350 \")\n",
    "                    PRICE.append(350)\n",
    "                    break\n",
    "                if y2==0:\n",
    "                    break\n",
    "                break    \n",
    "            elif y==10:\n",
    "                home()\n",
    "                break\n",
    "        break\n",
    "\n",
    "\n",
    "\n",
    "\n",
    "\n",
    "\n",
    "    if x==3:\n",
    "        def dessert_Beaverages():\n",
    "\n",
    "            print(\"enter 1 for cold drink     -----₹50 \")\n",
    "            print(\"enter 2 for cheesecake     -----₹100\")\n",
    "            print(\"enter 3 for chocolate cake -----₹100\")\n",
    "            print(\"enter 4 for Tiramisu       -----₹500\")      \n",
    "            print(\"enter 5 for Gulab jamun    -----₹70\" )\n",
    "            print(\"enter 6 for ice cream      -----₹60\" )\n",
    "            print(\"enter 7 for custurd        -----₹40\" )\n",
    "            print(\"enter 8 for brownie        -----₹80\" )\n",
    "            print(\"enter 9 for waffles        -----₹120\")\n",
    "            print(\"enter 10 for home\")\n",
    "            print(\"enter 0 for exit\")\n",
    "\n",
    "        dessert_Beaverages() \n",
    "        z=int(input(\" \"))\n",
    "\n",
    "        if z==1:\n",
    "            MY_ORDER.append(\"cold drink     -----₹50\")\n",
    "            PRICE.append(50)\n",
    "            break\n",
    "        if z==2:\n",
    "            MY_ORDER.append(\"cheesecake     -----₹100\")\n",
    "            PRICE.append(100)\n",
    "            break\n",
    "        if z==3:\n",
    "            MY_ORDER.append(\"chocolate cake -----₹100\")\n",
    "            PRICE.append(100)\n",
    "            break\n",
    "        if z==4:\n",
    "            MY_ORDER.append(\"Tiramisu       -----₹500\")\n",
    "            PRICE.append(500)\n",
    "            break\n",
    "        if z==5:\n",
    "            MY_ORDER.append(\"Gulab jamun    -----₹70\")\n",
    "            PRICE.append(70)\n",
    "            break\n",
    "        if z==6:\n",
    "            MY_ORDER.append(\"ice cream      -----₹60\")\n",
    "            PRICE.append(60)\n",
    "            break\n",
    "        if z==7:\n",
    "            MY_ORDER.append(\"custurd        -----₹40\")\n",
    "            PRICE.append(40)\n",
    "            break\n",
    "        if z==8:\n",
    "            MY_ORDER.append(\"brownie        -----₹80\")\n",
    "            PRICE.append(80)\n",
    "            break\n",
    "        if z==9:\n",
    "            MY_ORDER.append(\"waffles        -----₹120\")\n",
    "            PRICE.append(120)\n",
    "            break\n",
    "        if z==10:\n",
    "            home()"
   ]
  },
  {
   "cell_type": "code",
   "execution_count": 15,
   "id": "d3bb6e69",
   "metadata": {},
   "outputs": [
    {
     "data": {
      "text/plain": [
       "{'paneer tikka ----- ₹120': 120}"
      ]
     },
     "execution_count": 15,
     "metadata": {},
     "output_type": "execute_result"
    }
   ],
   "source": [
    "BILL=dict(zip( MY_ORDER,PRICE))\n",
    "BILL"
   ]
  },
  {
   "cell_type": "code",
   "execution_count": 16,
   "id": "887334d7",
   "metadata": {},
   "outputs": [
    {
     "name": "stdout",
     "output_type": "stream",
     "text": [
      "120\n",
      "total : 120\n"
     ]
    }
   ],
   "source": [
    "#code for total bill\n",
    "\n",
    "total=0\n",
    "for i in PRICE:\n",
    "    total+=i\n",
    "    print(        i)\n",
    "print(\"total :\",total)"
   ]
  },
  {
   "cell_type": "code",
   "execution_count": 17,
   "id": "c20653de",
   "metadata": {},
   "outputs": [
    {
     "data": {
      "text/plain": [
       "126.0"
      ]
     },
     "execution_count": 17,
     "metadata": {},
     "output_type": "execute_result"
    }
   ],
   "source": [
    "#code for adding gst \n",
    "\n",
    "gst=total*0.05\n",
    "TOTAL=total+gst\n",
    "TOTAL"
   ]
  },
  {
   "cell_type": "code",
   "execution_count": 18,
   "id": "393d0924",
   "metadata": {},
   "outputs": [
    {
     "data": {
      "text/plain": [
       "{'RAJ': '345678999'}"
      ]
     },
     "execution_count": 18,
     "metadata": {},
     "output_type": "execute_result"
    }
   ],
   "source": [
    "CONTACT_INFO=dict(zip(CUSTOMER,CONTACT))\n",
    "CONTACT_INFO"
   ]
  },
  {
   "cell_type": "code",
   "execution_count": 19,
   "id": "9a208dd6",
   "metadata": {},
   "outputs": [
    {
     "name": "stdout",
     "output_type": "stream",
     "text": [
      "Today date is: today()\n"
     ]
    }
   ],
   "source": [
    "import datetime\n",
    "from datetime import date\n",
    " \n",
    "# Returns the current local date\n",
    "today = date.today()\n",
    "print(\"Today date is:\",'today()')"
   ]
  },
  {
   "cell_type": "code",
   "execution_count": 20,
   "id": "4e98db99",
   "metadata": {},
   "outputs": [
    {
     "name": "stdout",
     "output_type": "stream",
     "text": [
      "         🍽 RECEIPT 🍽           \n",
      "________________________________\n",
      "Tue Dec 20 00:00:00 2022\n",
      "________________________________\n",
      "    paneer tikka ----- ₹120\n",
      "~~~~~~~~~~~~~~~~~~~~~~~~~~~~~~~~\n",
      "                total :120 \n",
      "                   gst:6.0 \n",
      "        including gst :126.0 \n",
      "thank you !!!!          visit again\n"
     ]
    }
   ],
   "source": [
    "#pp for billing\n",
    "\n",
    "\n",
    "\n",
    "print (\"         🍽 RECEIPT 🍽           \")\n",
    "print(\"_\"*32)\n",
    "\n",
    "print(date.ctime(today))\n",
    "\n",
    "#print(\"customer:{} \".format(NAME))\n",
    "print(\"_\"*32)\n",
    "\n",
    "for i in MY_ORDER:\n",
    "    print(\"   \",i)\n",
    "\n",
    "print(\"~\"*32)\n",
    "print(\"                total :{} \".format(total))\n",
    "print(\"                   gst:{} \".format(gst))\n",
    "print(\"        including gst :{} \".format(TOTAL))\n",
    "print(\"thank you !!!!          visit again\")"
   ]
  },
  {
   "cell_type": "code",
   "execution_count": null,
   "id": "3a1f37f9",
   "metadata": {},
   "outputs": [],
   "source": []
  }
 ],
 "metadata": {
  "kernelspec": {
   "display_name": "Python 3 (ipykernel)",
   "language": "python",
   "name": "python3"
  },
  "language_info": {
   "codemirror_mode": {
    "name": "ipython",
    "version": 3
   },
   "file_extension": ".py",
   "mimetype": "text/x-python",
   "name": "python",
   "nbconvert_exporter": "python",
   "pygments_lexer": "ipython3",
   "version": "3.9.13"
  }
 },
 "nbformat": 4,
 "nbformat_minor": 5
}
